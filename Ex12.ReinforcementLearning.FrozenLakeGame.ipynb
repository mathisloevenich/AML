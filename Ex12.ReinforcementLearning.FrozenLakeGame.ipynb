{
  "cells": [
    {
      "cell_type": "markdown",
      "id": "b9bdaa1f",
      "metadata": {
        "id": "b9bdaa1f"
      },
      "source": [
        "<img src=\"https://www.th-koeln.de/img/logo.svg\" style=\"float:right;\" width=\"200\">"
      ]
    },
    {
      "cell_type": "markdown",
      "id": "25c621fd",
      "metadata": {
        "id": "25c621fd"
      },
      "source": [
        "# 12th exercise: <font color=\"#C70039\">First Reinforcement Learning Game (*Frozen Lake*) using OpenAI Gym</font>\n",
        "* Course: AML\n",
        "* Lecturer: <a href=\"https://www.gernotheisenberg.de/\">Gernot Heisenberg</a>\n",
        "* Author of notebook: Mathis Loevenich\n",
        "* Date:   27.12.2022\n",
        "* Matr. No.: 11157363 \n",
        "\n",
        "<img src=\"https://launchyourintelligentapphome.files.wordpress.com/2019/05/frozenlake_legended.png?w=531\" style=\"float: center;\" width=\"600\">\n",
        "\n",
        "---------------------------------\n",
        "**GENERAL NOTE 1**: \n",
        "Please make sure you are reading the entire notebook, since it contains a lot of information on your tasks (e.g. regarding the set of certain paramaters or a specific computational trick), and the written mark downs as well as comments contain a lot of information on how things work together as a whole. \n",
        "\n",
        "**GENERAL NOTE 2**: \n",
        "* Please, when commenting source code, just use English language only. \n",
        "* When describing an observation please use English language, too.\n",
        "* This applies to all exercises throughout this course.\n",
        "\n",
        "---------------------------------\n",
        "\n",
        "### <font color=\"ce33ff\">DESCRIPTION</font>:\n",
        "\n",
        "#### OpenAI Gym\n",
        "In this exercise you will be using Python and OpenAI Gym to develop your reinforcement learning algorithm. The Gym library is a collection of environments that can be used freely with the reinforcement learning algorithms.\n",
        "\n",
        "Gym has a ton of environments ranging from simple text based games to Atari games like Breakout and Space Invaders. The library is intuitive to use and simple to install. Just run **pip install gym** and you are good to go! The link to Gym's installation instructions, requirements, and documentation is included in the description. \n",
        "\n",
        "Further reading about OpenAI Gym is available under https://www.gymlibrary.dev/.\n",
        "This notebook is based on this great post and notebook from [Rodolfo Mendes](https://morioh.com/p/18a96b9091d3).\n",
        "\n",
        "#### Frozen Lake\n",
        "This description of the game is copied directly from Gym's website. \n",
        "\n",
        "*Winter is coming. You and your friends were tossing around a frisbee at the park when you made a wild throw that left the frisbee out in the middle of the lake. The water is mostly frozen, but there are a few holes where the ice has melted. If you step into one of those holes, you'll fall into the freezing water and die (Game over). At this time, there's an international frisbee shortage, so it's absolutely imperative that you navigate across the lake and retrieve the disc. However, the ice is slippery, so you won't always move in the direction you intend. The surface is described using a grid like the following:*\n",
        "\n",
        "* SFFF\n",
        "* FHFH\n",
        "* FFFH\n",
        "* HFFG\n",
        "\n",
        "This grid is your environment! S is your (the agent's) starting point and it's safe. F represents the frozen surface and is also safe. H represents a hole and if your agent steps in a hole in the middle of a frozen lake, the game is over because the agent dies. Finally, G represents the goal, which is the space on the grid where the frisbee is located.\n",
        "\n",
        "The agent can navigate *left, right, up, down* and the episode ends when the agent reaches the goal or falls in a hole. It receives a reward of **1** if it reaches the goal and **0** otherwise.\n",
        "\n",
        "Here is the summary:\n",
        "<img src=\"./images/FrozenLake.States.Rewards.png\" style=\"float: center;\" width=\"800\">\n",
        "\n",
        "---------------------------------\n",
        "\n",
        "### <font color=\"FFC300\">TASKS</font>:\n",
        "The tasks that you need to work on within this notebook are always indicated below as bullet points. \n",
        "If a task is more challenging and consists of several steps, this is indicated as well. \n",
        "Make sure you have worked down the task list and commented your doings. \n",
        "This should be done by using markdown.<br> \n",
        "<font color=red>Make sure you don't forget to specify your name and your matriculation number in the notebook.</font>\n",
        "\n",
        "**YOUR TASKS in this exercise are as follows**:\n",
        "1. import the notebook to Google Colab or use your local machine.\n",
        "2. make sure you specified you name and your matriculation number in the header below my name and date. \n",
        "    * set the date too and remove mine.\n",
        "3. read the entire notebook carefully \n",
        "    * add comments whereever you feel it necessary for better understanding\n",
        "    * run the notebook for the first time. \n",
        "4. install gym into your env!\n",
        "5. You will train an agent to play the *Frozen Lake* game using Q-learning and you will get a playback of how the agent does after being trained.\n",
        "6. Again the task: Your agent has to navigate the grid by staying on the frozen surface without falling into any holes until it reaches the frisbee. If it reaches the frisbee, it wins with a reward of plus one. If it falls in a hole, it loses and receives no points for the entire episode.\n",
        "7. Your tasks are highlighted in the notebook (see below)\n",
        "---------------------------------"
      ]
    },
    {
      "cell_type": "markdown",
      "id": "0c8e1838",
      "metadata": {
        "id": "0c8e1838"
      },
      "source": [
        "### Imports \n",
        "import all important libs including gym"
      ]
    },
    {
      "cell_type": "code",
      "execution_count": 1,
      "id": "a8a696b3",
      "metadata": {
        "id": "a8a696b3"
      },
      "outputs": [],
      "source": [
        "import numpy as np\n",
        "import gym\n",
        "import random\n",
        "import time\n",
        "from   IPython.display import clear_output"
      ]
    },
    {
      "cell_type": "markdown",
      "id": "87efa371",
      "metadata": {
        "id": "87efa371"
      },
      "source": [
        "### Creating the Environment\n",
        "For creating your environment, just call *gym.make()* and pass a string of the name of the environment you want to set up. \n",
        "All the environments with their corresponding names you can use here are available on Gym's website (see above).\n",
        "With this *env* object, you are able to query for information about the environment, sample states and actions, retrieve rewards and have your agent navigate the frozen lake. That is all made available to you conveniently with Gym."
      ]
    },
    {
      "cell_type": "code",
      "execution_count": 2,
      "id": "d88423b6",
      "metadata": {
        "colab": {
          "base_uri": "https://localhost:8080/"
        },
        "id": "d88423b6",
        "outputId": "ae4461e3-49a0-4d12-f378-6866027d4aca"
      },
      "outputs": [
        {
          "output_type": "stream",
          "name": "stderr",
          "text": [
            "/usr/local/lib/python3.8/dist-packages/gym/core.py:317: DeprecationWarning: \u001b[33mWARN: Initializing wrapper in old step API which returns one bool instead of two. It is recommended to set `new_step_api=True` to use new step API. This will be the default behaviour in future.\u001b[0m\n",
            "  deprecation(\n",
            "/usr/local/lib/python3.8/dist-packages/gym/wrappers/step_api_compatibility.py:39: DeprecationWarning: \u001b[33mWARN: Initializing environment in old step API which returns one bool instead of two. It is recommended to set `new_step_api=True` to use new step API. This will be the default behaviour in future.\u001b[0m\n",
            "  deprecation(\n"
          ]
        }
      ],
      "source": [
        "env = gym.make(\"FrozenLake-v1\")"
      ]
    },
    {
      "cell_type": "markdown",
      "id": "9ba3fd99",
      "metadata": {
        "id": "9ba3fd99"
      },
      "source": [
        "### Creating the Q-Table\n",
        "Now, construct your Q-table, and initialize all the Q-values to zero for each state-action pair.\n",
        "The number of rows in the table is equivalent to the size of the state space in the environment, and the number of columns is equivalent to the size of the action space (see above). You can get this information using *env.observation_space.n* and *env.action_space.n* as shown below in the code. Then, you can use this information to build the Q-table and initialize it with zeros."
      ]
    },
    {
      "cell_type": "code",
      "execution_count": 3,
      "id": "349627df",
      "metadata": {
        "id": "349627df"
      },
      "outputs": [],
      "source": [
        "action_space_size = env.action_space.n\n",
        "state_space_size = env.observation_space.n\n",
        "\n",
        "q_table = np.zeros((state_space_size, action_space_size))"
      ]
    },
    {
      "cell_type": "code",
      "execution_count": 4,
      "id": "9ac22125",
      "metadata": {
        "colab": {
          "base_uri": "https://localhost:8080/"
        },
        "id": "9ac22125",
        "outputId": "71e3202c-6c5c-4d45-f029-eb90395d72cc"
      },
      "outputs": [
        {
          "output_type": "stream",
          "name": "stdout",
          "text": [
            "[[0. 0. 0. 0.]\n",
            " [0. 0. 0. 0.]\n",
            " [0. 0. 0. 0.]\n",
            " [0. 0. 0. 0.]\n",
            " [0. 0. 0. 0.]\n",
            " [0. 0. 0. 0.]\n",
            " [0. 0. 0. 0.]\n",
            " [0. 0. 0. 0.]\n",
            " [0. 0. 0. 0.]\n",
            " [0. 0. 0. 0.]\n",
            " [0. 0. 0. 0.]\n",
            " [0. 0. 0. 0.]\n",
            " [0. 0. 0. 0.]\n",
            " [0. 0. 0. 0.]\n",
            " [0. 0. 0. 0.]\n",
            " [0. 0. 0. 0.]]\n"
          ]
        }
      ],
      "source": [
        "print(q_table)"
      ]
    },
    {
      "cell_type": "markdown",
      "id": "6d662212",
      "metadata": {
        "id": "6d662212"
      },
      "source": [
        "### Initializing Q-Learning hyperparameters\n",
        "Now, we're going to create and initialize all the parameters needed to implement the Q-learning algorithm.\n",
        "\n",
        "First, with *num_episodes*, you define the total number of episodes you want the agent to play during training. Then, with *max_steps_per_episode*, you define a maximum number of steps that your agent is allowed to take within a single episode. So, if by the 100th step, the agent has not reached the frisbee or fallen through a hole, then the episode will terminate with the agent receiving zero points.\n",
        "\n",
        "Next, you will set your *learning_rate* and your *discount_rate* as well, which was represented with the symbol (lambda) in the course slides (keyword: discounted return G_t).\n",
        "\n",
        "Now, the last four parameters are all related to the exploration-exploitation dilemma with respect to the epsilon-greedy policy. You are initializing your *exploration_rate* to **1** and setting the *max_exploration_rate* to **1** and a *min_exploration_rate* to **0.01**. The *max* and *min* are just bounds to how large or small your exploration rate can be. Remember, the exploration rate was represented with the symbol (epsilon) when discussed in the course slides.\n",
        "\n",
        "Lastly, you will set the *exploration_decay_rate* to **0.01** to determine the rate at which the *exploration_rate* will decay."
      ]
    },
    {
      "cell_type": "markdown",
      "id": "40f34d94",
      "metadata": {
        "id": "40f34d94"
      },
      "source": [
        "**YOUR <font color=\"FFC300\">TASK</font> in this exercise is as follows** (point 7 from the task list above):\n",
        "\n",
        "All of the above parameters can change!\n",
        "Your task is to create a *testplan* and tune all parameters by yourself and observe how they influence and change the performance of the algorithm. \n",
        "Make notes! They will help you during the exam."
      ]
    },
    {
      "cell_type": "code",
      "execution_count": 5,
      "id": "3dde16e1",
      "metadata": {
        "id": "3dde16e1"
      },
      "outputs": [],
      "source": [
        "num_episodes = 10000\n",
        "max_steps_per_episode = 100\n",
        "\n",
        "learning_rate = 0.1\n",
        "discount_rate = 0.99\n",
        "\n",
        "exploration_rate = 1\n",
        "max_exploration_rate = 1\n",
        "min_exploration_rate = 0.01\n",
        "exploration_decay_rate = 0.01"
      ]
    },
    {
      "cell_type": "markdown",
      "id": "ac087582",
      "metadata": {
        "id": "ac087582"
      },
      "source": [
        "Create a list to hold all of the rewards you will get from each episode. \n",
        "By means of this you can observe how your game score changes over time."
      ]
    },
    {
      "cell_type": "code",
      "execution_count": 6,
      "id": "7bf6194e",
      "metadata": {
        "id": "7bf6194e"
      },
      "outputs": [],
      "source": [
        "rewards_all_episodes = []"
      ]
    },
    {
      "cell_type": "markdown",
      "id": "39502e30",
      "metadata": {
        "id": "39502e30"
      },
      "source": [
        "In the following code section, the entire Q-learning algorithm is implemented as discussed in detail in the AML course. \n",
        "When this code is executed, this is exactly where the training will take place. \n",
        "* The first for-loop contains everything that happens within a single episode. \n",
        "* The second nested loop contains everything that happens for a single time-step.\n",
        "\n",
        "Read all the red comments, as they contain lots of important information on the implementation."
      ]
    },
    {
      "cell_type": "code",
      "execution_count": 54,
      "id": "c6dad9e9",
      "metadata": {
        "id": "c6dad9e9"
      },
      "outputs": [],
      "source": [
        "# Q-learning algorithm\n",
        "\n",
        "def qlearning(\n",
        "    num_episodes = 10000, \n",
        "    max_steps_per_episode = 100, \n",
        "    learning_rate = 0.1,\n",
        "    discount_rate = 0.99,\n",
        "    exploration_rate = 1,\n",
        "    max_exploration_rate = 1,\n",
        "    min_exploration_rate = 0.01,\n",
        "    exploration_decay_rate = 0.01\n",
        "    ):\n",
        "  \n",
        "  action_space_size = env.action_space.n\n",
        "  state_space_size = env.observation_space.n\n",
        "\n",
        "  q_table = np.zeros((state_space_size, action_space_size))\n",
        "  \n",
        "  rewards_all = []\n",
        "\n",
        "  # loop: for a single episode\n",
        "  for episode in range(num_episodes):\n",
        "      # initialize 'new episode' parameters\n",
        "      state = env.reset()\n",
        "      ''' The done variable just keeps track of whether or not your episode is finished.\n",
        "      Initialize it to False when first starting the episode and you will see later where \n",
        "      it will get updated to notify you when the episode is over.'''\n",
        "      done = False\n",
        "      \n",
        "      ''' Keep track of the rewards within the current episode as well.\n",
        "      Hence, set rewards_current_episode = 0 since you start \n",
        "      with no rewards at the beginning of each episode.'''\n",
        "      rewards_current_episode = 0\n",
        "\n",
        "      # nested loop: for a single time-step\n",
        "      for step in range(max_steps_per_episode): \n",
        "          # Exploration-exploitation trade-off\n",
        "          '''For each time-step within an episode set your exploration_rate_threshold \n",
        "          to a random number between 0 and 1. This will be used to determine whether \n",
        "          your agent will explore or exploit the environment in this time-step.'''\n",
        "          exploration_rate_threshold = random.uniform(0, 1)\n",
        "          if exploration_rate_threshold > exploration_rate:\n",
        "              action = np.argmax(q_table[state,:]) \n",
        "          else:\n",
        "              action = env.action_space.sample()\n",
        "\n",
        "          # Take new action\n",
        "          '''After action is chosen, take that action by calling step() on your env object and \n",
        "          pass your action to it. The function step() returns a tuple containing the new state, \n",
        "          the reward for the action you took, whether or not the action ended the episode and \n",
        "          diagnostic information regarding the environment (helpful for debugging).'''\n",
        "          new_state, reward, done, info = env.step(action)\n",
        "\n",
        "          # Update Q-table for Q(s,a)\n",
        "          '''Compare this implementation with the equation in the course slides.'''\n",
        "          q_table[state, action] = q_table[state, action] * (1 - learning_rate) + \\\n",
        "          learning_rate * (reward + discount_rate * np.max(q_table[new_state, :]))\n",
        "          \n",
        "          '''Set your current state to the new_state that was returned when taking the last action \n",
        "          and then update the rewards from your current episode by adding the reward you received \n",
        "          for your previous action.'''\n",
        "          # Set new state\n",
        "          state = new_state\n",
        "          # Add new reward \n",
        "          rewards_current_episode += reward \n",
        "          '''Then, check to see if your last action ended the episode \n",
        "          (game over by agent stepping in a hole or reaching the goal)! \n",
        "          If the action did end the episode, then jump out of this loop and start the next episode.\n",
        "          Otherwise, transition to the next time-step.'''\n",
        "          if done == True: \n",
        "              break\n",
        "              \n",
        "\n",
        "      # Exploration rate decay\n",
        "      '''Once an episode is finished, you need to update your exploration_rate using exponential decay, \n",
        "      which just means that the exploration rate decays at a rate proportional to its current value. \n",
        "      You can decay the exploration_rate using the formula above, which makes use of all the exploration \n",
        "      rate parameters that were defined above in the hyperparameter section.'''\n",
        "      exploration_rate = min_exploration_rate + (max_exploration_rate - min_exploration_rate) * np.exp(-exploration_decay_rate*episode)\n",
        "      \n",
        "      # Add current episode reward to total rewards list and move on to the next episode\n",
        "      rewards_all.append(rewards_current_episode)\n",
        "\n",
        "  return rewards_all\n"
      ]
    },
    {
      "cell_type": "markdown",
      "id": "f3acbce7",
      "metadata": {
        "id": "f3acbce7"
      },
      "source": [
        "### All episodes training completed\n",
        "After all episodes are finished you now just calculate the average reward per thousand episodes from your list that contains the rewards for all episodes so that you can print it out and see how the rewards changed over time."
      ]
    },
    {
      "cell_type": "code",
      "execution_count": 24,
      "id": "03097b41",
      "metadata": {
        "colab": {
          "base_uri": "https://localhost:8080/"
        },
        "id": "03097b41",
        "outputId": "a96fb9bc-dde0-4ec3-ef10-17e48a92da9d"
      },
      "outputs": [
        {
          "output_type": "stream",
          "name": "stdout",
          "text": [
            "********Average reward per thousand episodes********\n",
            "\n",
            "1000 :  0.07400000000000005\n",
            "2000 :  0.08200000000000006\n",
            "3000 :  0.08400000000000006\n",
            "4000 :  0.09600000000000007\n",
            "5000 :  0.1350000000000001\n",
            "6000 :  0.1320000000000001\n",
            "7000 :  0.3000000000000002\n",
            "8000 :  0.4210000000000003\n",
            "9000 :  0.6710000000000005\n",
            "10000 :  0.6750000000000005\n"
          ]
        }
      ],
      "source": [
        "# Calculate and print the average reward per thousand episodes\n",
        "num_episodes=10000\n",
        "rewards_all_episodes = qlearning(num_episodes=num_episodes)\n",
        "rewards_per_thousand_episodes = np.split(np.array(rewards_all_episodes),num_episodes/1000)\n",
        "count = 1000\n",
        "\n",
        "print(\"********Average reward per thousand episodes********\\n\")\n",
        "for r in rewards_per_thousand_episodes:\n",
        "    print(count, \": \", str(sum(r/1000)))\n",
        "    count += 1000"
      ]
    },
    {
      "cell_type": "markdown",
      "id": "d66e875b",
      "metadata": {
        "id": "d66e875b"
      },
      "source": [
        "### Interpretation"
      ]
    },
    {
      "cell_type": "markdown",
      "id": "6771b72f",
      "metadata": {
        "id": "6771b72f"
      },
      "source": [
        "From this print, you can see that the average reward per thousand episodes did indeed progress over time. When the algorithm first started training, the first thousand episodes only averaged a reward of almost **0.18**, but by the time it got to its last thousand episodes, the reward drastically improved to almost **0.7**.\n",
        "\n",
        "Let's take a second to understand how you can interpret these results. Your agent played **10000** episodes. At each time step within an episode, the agent received a reward of **1** if it reached the frisbee, otherwise, it received a reward of **0**. If the agent did indeed reach the frisbee, then the episode finished at that time-step.\n",
        "\n",
        "Hence, that means for each episode, the total reward received by the agent for the entire episode is either **1** or **0**. So, for the first thousand episodes, you can interpret this score as meaning that **18%** of the time the agent received a reward of **1** and won the episode. And by the last thousand episodes from a total of **10000**, the agent was winning almost **70%** of the time.\n",
        "\n",
        "By analyzing the grid of the game, you can see it is a lot more likely that the agent would fall in a hole or perhaps reach the max time steps than it is to reach the frisbee, so reaching the frisbee **70%** of the time is not too bad, especially since the agent had no explicit instructions to reach the frisbee. It learned that this is the correct thing to do.\n",
        "\n",
        "* SFFF\n",
        "* FHFH\n",
        "* FFFH\n",
        "* HFFG\n",
        "\n",
        "At last, print out your updated Q-table to see how that has transitioned from its initial state of all zeros."
      ]
    },
    {
      "cell_type": "markdown",
      "source": [
        "# Exploration"
      ],
      "metadata": {
        "id": "SLq0Vbcr6Wyw"
      },
      "id": "SLq0Vbcr6Wyw"
    },
    {
      "cell_type": "markdown",
      "source": [
        "Recap about the metrics:\n",
        "\n",
        "- Learning rate: This parameter controls the step size at which the agent updates its policy. A higher learning rate will cause the agent to update its policy more quickly, but it may also cause the agent to overshoot its optimal policy.\n",
        "\n",
        "- Discount rate: This parameter controls the agent's preference for immediate rewards versus future rewards. A higher discount rate will cause the agent to focus more on immediate rewards, while a lower discount rate will cause the agent to focus more on long-term rewards.\n",
        "\n",
        "- Exploration: This parameter controls the agent's willingness to try out new actions, even if they have not been proven to be rewarding in the past. A higher exploration rate will cause the agent to try out new actions more often, while a lower exploration rate will cause the agent to rely more on actions that have been proven to be rewarding in the past.\n"
      ],
      "metadata": {
        "id": "jXAyv01a5USf"
      },
      "id": "jXAyv01a5USf"
    },
    {
      "cell_type": "code",
      "source": [
        "from ipywidgets import interact, fixed"
      ],
      "metadata": {
        "id": "AhczUHBg6VCq"
      },
      "id": "AhczUHBg6VCq",
      "execution_count": 10,
      "outputs": []
    },
    {
      "cell_type": "code",
      "source": [
        "def get_rewards(\n",
        "    num_episodes = 10000, \n",
        "    learning_rate = 0.1,\n",
        "    discount_rate = 0.99,\n",
        "    exploration_rate = 1,\n",
        "    exploration_decay_rate = 0.01\n",
        "):\n",
        "    # Calculate and print the average reward per thousand episodes\n",
        "  rewards_all_episodes = qlearning(\n",
        "      num_episodes = num_episodes, \n",
        "      learning_rate = learning_rate,\n",
        "      discount_rate = discount_rate,\n",
        "      exploration_rate = exploration_rate,\n",
        "      exploration_decay_rate = exploration_decay_rate\n",
        "      )\n",
        "  rewards_per_thousand_episodes = np.split(np.array(rewards_all_episodes),num_episodes/1000)\n",
        "  count = 1000\n",
        "\n",
        "  print(\"********Average reward per thousand episodes********\\n\")\n",
        "  for r in rewards_per_thousand_episodes:\n",
        "      print(count, \": \", str(sum(r/1000)))\n",
        "      count += 1000"
      ],
      "metadata": {
        "id": "QqtiAid76_06"
      },
      "id": "QqtiAid76_06",
      "execution_count": 55,
      "outputs": []
    },
    {
      "cell_type": "code",
      "source": [
        "interact(\n",
        "    get_rewards,\n",
        "    num_episodes = (1000, 10000, 1000),\n",
        "    learning_rate = (0,1,0.01),\n",
        "    discount_rate = (0, 1, 0.01),\n",
        "    exploration_rate = (0, 1, 0.01),\n",
        "    exploration_decay_rate = fixed(0.001)\n",
        "    )"
      ],
      "metadata": {
        "colab": {
          "base_uri": "https://localhost:8080/",
          "height": 381,
          "referenced_widgets": [
            "c70d3ed92625490b9c3f27ed49c3daf2",
            "0bf13fac761341f1a1e6c36c10aa60f2",
            "df5d8696d99b495fb453ceef2f38e9ab",
            "fc40634652b14597a35462c44dfcf769",
            "5ba728309bdc4feb9e9e84d6cee91965",
            "58b96f221e8644298757e944ad5461ae",
            "eae3fbfba99e411b887a891c59a92341",
            "b5daa8c81ff944a39d41e93c5aac2d5d",
            "41e1c120a72b456b803ca2b0c145a6d9",
            "83ccdd00a9ac440e9cb68bb921e0e81f",
            "2167767b63194507bb76e66df5f3d83f",
            "fa898de3c08144389ffbfc2cbf4beffb",
            "6764214b2f3f4af9b12cf41696a785ea",
            "29146fb4b9ad4aae852539c7e45d0c0a",
            "4755a5825b074ec9b842263022b39d22",
            "601fbcac7299455499a0bfe52d46b2b5"
          ]
        },
        "id": "oVNmbJt76GAg",
        "outputId": "63823411-644d-44b6-fcb6-4f0108ed118f"
      },
      "id": "oVNmbJt76GAg",
      "execution_count": 12,
      "outputs": [
        {
          "output_type": "display_data",
          "data": {
            "text/plain": [
              "interactive(children=(IntSlider(value=10000, description='num_episodes', max=10000, min=1000, step=1000), Floa…"
            ],
            "application/vnd.jupyter.widget-view+json": {
              "version_major": 2,
              "version_minor": 0,
              "model_id": "c70d3ed92625490b9c3f27ed49c3daf2"
            }
          },
          "metadata": {}
        },
        {
          "output_type": "execute_result",
          "data": {
            "text/plain": [
              "<function __main__.get_rewards(num_episodes=10000, learning_rate=0.1, discount_rate=0.99, exploration_rate=1, exploration_decay_rate=0.01)>"
            ]
          },
          "metadata": {},
          "execution_count": 12
        }
      ]
    },
    {
      "cell_type": "code",
      "source": [
        "# Calculate and print the average reward per thousand episodes\n",
        "get_rewards(\n",
        "    num_episodes=10000,\n",
        "    learning_rate = 0.1,\n",
        "    discount_rate = .99,\n",
        "    exploration_rate = 1,\n",
        "    exploration_decay_rate = 0.01\n",
        "    )"
      ],
      "metadata": {
        "colab": {
          "base_uri": "https://localhost:8080/"
        },
        "id": "jPSJ9uuo_kEP",
        "outputId": "46c2bc54-aaf1-4b7c-f2b2-971734efa007"
      },
      "id": "jPSJ9uuo_kEP",
      "execution_count": 56,
      "outputs": [
        {
          "output_type": "stream",
          "name": "stdout",
          "text": [
            "********Average reward per thousand episodes********\n",
            "\n",
            "1000 :  0.1290000000000001\n",
            "2000 :  0.19900000000000015\n",
            "3000 :  0.4870000000000004\n",
            "4000 :  0.7040000000000005\n",
            "5000 :  0.6810000000000005\n",
            "6000 :  0.6780000000000005\n",
            "7000 :  0.6680000000000005\n",
            "8000 :  0.6470000000000005\n",
            "9000 :  0.6800000000000005\n",
            "10000 :  0.6920000000000005\n"
          ]
        }
      ]
    },
    {
      "cell_type": "code",
      "source": [
        "# Calculate and print the average reward per thousand episodes\n",
        "get_rewards(\n",
        "    num_episodes=10000,\n",
        "    learning_rate = 0.2,\n",
        "    discount_rate = .99,\n",
        "    exploration_rate = 1,\n",
        "    exploration_decay_rate = 0.01\n",
        "    )"
      ],
      "metadata": {
        "colab": {
          "base_uri": "https://localhost:8080/"
        },
        "id": "ihzDM-WOR_AD",
        "outputId": "3f3b26c5-ec8a-4390-f1e2-9149e219236f"
      },
      "id": "ihzDM-WOR_AD",
      "execution_count": 57,
      "outputs": [
        {
          "output_type": "stream",
          "name": "stdout",
          "text": [
            "********Average reward per thousand episodes********\n",
            "\n",
            "1000 :  0.44100000000000034\n",
            "2000 :  0.6510000000000005\n",
            "3000 :  0.6560000000000005\n",
            "4000 :  0.6710000000000005\n",
            "5000 :  0.6540000000000005\n",
            "6000 :  0.6650000000000005\n",
            "7000 :  0.6590000000000005\n",
            "8000 :  0.6550000000000005\n",
            "9000 :  0.7010000000000005\n",
            "10000 :  0.6570000000000005\n"
          ]
        }
      ]
    },
    {
      "cell_type": "code",
      "source": [
        "get_rewards(\n",
        "    num_episodes=10000,\n",
        "    learning_rate = 0.05,\n",
        "    discount_rate = .99,\n",
        "    exploration_rate = 1,\n",
        "    exploration_decay_rate = 0.01\n",
        "    )"
      ],
      "metadata": {
        "colab": {
          "base_uri": "https://localhost:8080/"
        },
        "id": "swG0e9bgUJ1C",
        "outputId": "0b82b3af-7ceb-469c-ea0f-5cdc0bea950d"
      },
      "id": "swG0e9bgUJ1C",
      "execution_count": 62,
      "outputs": [
        {
          "output_type": "stream",
          "name": "stdout",
          "text": [
            "********Average reward per thousand episodes********\n",
            "\n",
            "1000 :  0.06700000000000005\n",
            "2000 :  0.07800000000000006\n",
            "3000 :  0.08100000000000006\n",
            "4000 :  0.21200000000000016\n",
            "5000 :  0.4170000000000003\n",
            "6000 :  0.3860000000000003\n",
            "7000 :  0.36900000000000027\n",
            "8000 :  0.3820000000000003\n",
            "9000 :  0.4820000000000004\n",
            "10000 :  0.5550000000000004\n"
          ]
        }
      ]
    },
    {
      "cell_type": "code",
      "source": [
        "get_rewards(\n",
        "    num_episodes=10000,\n",
        "    learning_rate = 0.2,\n",
        "    discount_rate = .98,\n",
        "    exploration_rate = 1,\n",
        "    exploration_decay_rate = 0.01\n",
        "    )"
      ],
      "metadata": {
        "colab": {
          "base_uri": "https://localhost:8080/"
        },
        "id": "OurYRNeQbCoy",
        "outputId": "8640a7d0-1f6b-4dae-8a89-3f8bcdceb89f"
      },
      "id": "OurYRNeQbCoy",
      "execution_count": 87,
      "outputs": [
        {
          "output_type": "stream",
          "name": "stdout",
          "text": [
            "********Average reward per thousand episodes********\n",
            "\n",
            "1000 :  0.2860000000000002\n",
            "2000 :  0.5800000000000004\n",
            "3000 :  0.6750000000000005\n",
            "4000 :  0.6330000000000005\n",
            "5000 :  0.6650000000000005\n",
            "6000 :  0.6540000000000005\n",
            "7000 :  0.6560000000000005\n",
            "8000 :  0.6400000000000005\n",
            "9000 :  0.6680000000000005\n",
            "10000 :  0.6430000000000005\n"
          ]
        }
      ]
    },
    {
      "cell_type": "code",
      "source": [],
      "metadata": {
        "id": "3cUqRHgXdwye"
      },
      "id": "3cUqRHgXdwye",
      "execution_count": null,
      "outputs": []
    },
    {
      "cell_type": "markdown",
      "source": [
        "### Key Findings:\n",
        "\n",
        "- If we set a higher learning_rate between 0.1 and 0.2 we can a better result in the first thousand epochs but we get worse results in the long run.\n",
        "\n",
        "- If we decrease the learning rate, our results get worse\n",
        "\n",
        "- There is no real better improvement to set the learning rate higher than 2.\n",
        "\n",
        "- slightly decreasing the discount_rate by 1 % makes the output worse\n",
        "\n",
        "- If the exploration decay ray is too high it happens often that the reward is always 0\n",
        "\n"
      ],
      "metadata": {
        "id": "H3WmTcVd9IWr"
      },
      "id": "H3WmTcVd9IWr"
    },
    {
      "cell_type": "code",
      "source": [
        "get_rewards(\n",
        "    num_episodes=10000,\n",
        "    learning_rate = 0.2,\n",
        "    discount_rate = 0.99,\n",
        "    exploration_rate = 1,\n",
        "    exploration_decay_rate = 0.001\n",
        "    )"
      ],
      "metadata": {
        "colab": {
          "base_uri": "https://localhost:8080/"
        },
        "id": "jOB-udl_COSN",
        "outputId": "e2dc6d45-3bb5-425c-fb66-342c211bc15d"
      },
      "id": "jOB-udl_COSN",
      "execution_count": 89,
      "outputs": [
        {
          "output_type": "stream",
          "name": "stdout",
          "text": [
            "********Average reward per thousand episodes********\n",
            "\n",
            "1000 :  0.05100000000000004\n",
            "2000 :  0.19100000000000014\n",
            "3000 :  0.3830000000000003\n",
            "4000 :  0.5290000000000004\n",
            "5000 :  0.6160000000000004\n",
            "6000 :  0.6240000000000004\n",
            "7000 :  0.6710000000000005\n",
            "8000 :  0.6690000000000005\n",
            "9000 :  0.6330000000000005\n",
            "10000 :  0.6530000000000005\n"
          ]
        }
      ]
    },
    {
      "cell_type": "code",
      "source": [
        "get_rewards(\n",
        "    num_episodes=20000,\n",
        "    learning_rate = 0.05,\n",
        "    discount_rate = 0.99,\n",
        "    exploration_rate = 1,\n",
        "    exploration_decay_rate = 0.001\n",
        "    )"
      ],
      "metadata": {
        "colab": {
          "base_uri": "https://localhost:8080/"
        },
        "id": "7JaKaWjjWWqc",
        "outputId": "7b0b0b06-a5df-4701-e7d9-77ca66e7ae4d"
      },
      "id": "7JaKaWjjWWqc",
      "execution_count": 101,
      "outputs": [
        {
          "output_type": "stream",
          "name": "stdout",
          "text": [
            "********Average reward per thousand episodes********\n",
            "\n",
            "1000 :  0.04000000000000003\n",
            "2000 :  0.21300000000000016\n",
            "3000 :  0.4200000000000003\n",
            "4000 :  0.5720000000000004\n",
            "5000 :  0.6390000000000005\n",
            "6000 :  0.6730000000000005\n",
            "7000 :  0.6730000000000005\n",
            "8000 :  0.6780000000000005\n",
            "9000 :  0.6660000000000005\n",
            "10000 :  0.6990000000000005\n",
            "11000 :  0.6670000000000005\n",
            "12000 :  0.6830000000000005\n",
            "13000 :  0.6930000000000005\n",
            "14000 :  0.6880000000000005\n",
            "15000 :  0.6700000000000005\n",
            "16000 :  0.6760000000000005\n",
            "17000 :  0.6750000000000005\n",
            "18000 :  0.6820000000000005\n",
            "19000 :  0.7090000000000005\n",
            "20000 :  0.6900000000000005\n"
          ]
        }
      ]
    },
    {
      "cell_type": "code",
      "source": [
        "get_rewards(\n",
        "    num_episodes=20000,\n",
        "    learning_rate = 0.1,\n",
        "    discount_rate = 0.995,\n",
        "    exploration_rate = 1,\n",
        "    exploration_decay_rate = 0.001\n",
        "    )"
      ],
      "metadata": {
        "colab": {
          "base_uri": "https://localhost:8080/"
        },
        "id": "Rh3xNUdSeGkx",
        "outputId": "cf41c196-0da9-475e-e0fb-0c7f74ce8c07"
      },
      "id": "Rh3xNUdSeGkx",
      "execution_count": 114,
      "outputs": [
        {
          "output_type": "stream",
          "name": "stdout",
          "text": [
            "********Average reward per thousand episodes********\n",
            "\n",
            "1000 :  0.05600000000000004\n",
            "2000 :  0.21300000000000016\n",
            "3000 :  0.4020000000000003\n",
            "4000 :  0.5530000000000004\n",
            "5000 :  0.6300000000000004\n",
            "6000 :  0.6840000000000005\n",
            "7000 :  0.6550000000000005\n",
            "8000 :  0.6870000000000005\n",
            "9000 :  0.6500000000000005\n",
            "10000 :  0.6640000000000005\n",
            "11000 :  0.6680000000000005\n",
            "12000 :  0.6820000000000005\n",
            "13000 :  0.6710000000000005\n",
            "14000 :  0.6750000000000005\n",
            "15000 :  0.6880000000000005\n",
            "16000 :  0.6680000000000005\n",
            "17000 :  0.6930000000000005\n",
            "18000 :  0.6920000000000005\n",
            "19000 :  0.6710000000000005\n",
            "20000 :  0.6960000000000005\n"
          ]
        }
      ]
    },
    {
      "cell_type": "markdown",
      "source": [
        "### Key Findings with num_episodes=20000\n",
        "\n",
        "- I found out that with lower eploration_decay_rate and learning_rate the model gets better over longer time periods but performs bad at the start.\n",
        "- In combination with a slightly higher discount_rate (because immidiate results are always better in this kind of setup) and a learning rate lower between 0.05 and 0.2 it's mostly always the case to get close to 70%"
      ],
      "metadata": {
        "id": "KU1C3w3ThGcF"
      },
      "id": "KU1C3w3ThGcF"
    },
    {
      "cell_type": "code",
      "source": [
        "get_rewards(\n",
        "    num_episodes=50000,\n",
        "    learning_rate = 0.05,\n",
        "    discount_rate = 0.995,\n",
        "    exploration_rate = 1,\n",
        "    exploration_decay_rate = 0.0005\n",
        "    )"
      ],
      "metadata": {
        "colab": {
          "base_uri": "https://localhost:8080/"
        },
        "id": "eAIUovkZhoVx",
        "outputId": "292665f0-931a-4343-9f30-8b835be53eca"
      },
      "id": "eAIUovkZhoVx",
      "execution_count": 115,
      "outputs": [
        {
          "output_type": "stream",
          "name": "stdout",
          "text": [
            "********Average reward per thousand episodes********\n",
            "\n",
            "1000 :  0.023000000000000013\n",
            "2000 :  0.06700000000000005\n",
            "3000 :  0.1550000000000001\n",
            "4000 :  0.2850000000000002\n",
            "5000 :  0.3770000000000003\n",
            "6000 :  0.44900000000000034\n",
            "7000 :  0.5670000000000004\n",
            "8000 :  0.5570000000000004\n",
            "9000 :  0.6130000000000004\n",
            "10000 :  0.6310000000000004\n",
            "11000 :  0.6460000000000005\n",
            "12000 :  0.6720000000000005\n",
            "13000 :  0.6860000000000005\n",
            "14000 :  0.6770000000000005\n",
            "15000 :  0.7130000000000005\n",
            "16000 :  0.6870000000000005\n",
            "17000 :  0.6880000000000005\n",
            "18000 :  0.6810000000000005\n",
            "19000 :  0.7050000000000005\n",
            "20000 :  0.6560000000000005\n",
            "21000 :  0.6890000000000005\n",
            "22000 :  0.6860000000000005\n",
            "23000 :  0.6760000000000005\n",
            "24000 :  0.6980000000000005\n",
            "25000 :  0.6760000000000005\n",
            "26000 :  0.6540000000000005\n",
            "27000 :  0.6920000000000005\n",
            "28000 :  0.6910000000000005\n",
            "29000 :  0.6960000000000005\n",
            "30000 :  0.7090000000000005\n",
            "31000 :  0.6880000000000005\n",
            "32000 :  0.7030000000000005\n",
            "33000 :  0.6790000000000005\n",
            "34000 :  0.6860000000000005\n",
            "35000 :  0.7010000000000005\n",
            "36000 :  0.6910000000000005\n",
            "37000 :  0.6710000000000005\n",
            "38000 :  0.7110000000000005\n",
            "39000 :  0.6940000000000005\n",
            "40000 :  0.6780000000000005\n",
            "41000 :  0.6930000000000005\n",
            "42000 :  0.6830000000000005\n",
            "43000 :  0.6980000000000005\n",
            "44000 :  0.6620000000000005\n",
            "45000 :  0.7000000000000005\n",
            "46000 :  0.6510000000000005\n",
            "47000 :  0.6580000000000005\n",
            "48000 :  0.7000000000000005\n",
            "49000 :  0.6970000000000005\n",
            "50000 :  0.7060000000000005\n"
          ]
        }
      ]
    },
    {
      "cell_type": "code",
      "source": [
        "get_rewards(\n",
        "    num_episodes=50000,\n",
        "    learning_rate = 0.1,\n",
        "    discount_rate = 0.995,\n",
        "    exploration_rate = 1,\n",
        "    exploration_decay_rate = 0.0005\n",
        "    )"
      ],
      "metadata": {
        "colab": {
          "base_uri": "https://localhost:8080/"
        },
        "id": "LBDlYgyViDIC",
        "outputId": "2307dda8-0c09-4c04-871a-7aeccd5a5e59"
      },
      "id": "LBDlYgyViDIC",
      "execution_count": 120,
      "outputs": [
        {
          "output_type": "stream",
          "name": "stdout",
          "text": [
            "********Average reward per thousand episodes********\n",
            "\n",
            "1000 :  0.026000000000000016\n",
            "2000 :  0.07000000000000005\n",
            "3000 :  0.1430000000000001\n",
            "4000 :  0.2460000000000002\n",
            "5000 :  0.35900000000000026\n",
            "6000 :  0.45300000000000035\n",
            "7000 :  0.5430000000000004\n",
            "8000 :  0.5610000000000004\n",
            "9000 :  0.5750000000000004\n",
            "10000 :  0.6440000000000005\n",
            "11000 :  0.6550000000000005\n",
            "12000 :  0.6380000000000005\n",
            "13000 :  0.6870000000000005\n",
            "14000 :  0.6540000000000005\n",
            "15000 :  0.6900000000000005\n",
            "16000 :  0.6610000000000005\n",
            "17000 :  0.6970000000000005\n",
            "18000 :  0.6670000000000005\n",
            "19000 :  0.6470000000000005\n",
            "20000 :  0.6790000000000005\n",
            "21000 :  0.6870000000000005\n",
            "22000 :  0.6820000000000005\n",
            "23000 :  0.6780000000000005\n",
            "24000 :  0.7050000000000005\n",
            "25000 :  0.6890000000000005\n",
            "26000 :  0.6500000000000005\n",
            "27000 :  0.6650000000000005\n",
            "28000 :  0.6510000000000005\n",
            "29000 :  0.6790000000000005\n",
            "30000 :  0.6850000000000005\n",
            "31000 :  0.6790000000000005\n",
            "32000 :  0.6880000000000005\n",
            "33000 :  0.6830000000000005\n",
            "34000 :  0.6670000000000005\n",
            "35000 :  0.6900000000000005\n",
            "36000 :  0.6860000000000005\n",
            "37000 :  0.6840000000000005\n",
            "38000 :  0.6580000000000005\n",
            "39000 :  0.6860000000000005\n",
            "40000 :  0.6690000000000005\n",
            "41000 :  0.6910000000000005\n",
            "42000 :  0.6910000000000005\n",
            "43000 :  0.6830000000000005\n",
            "44000 :  0.6920000000000005\n",
            "45000 :  0.6870000000000005\n",
            "46000 :  0.7150000000000005\n",
            "47000 :  0.7070000000000005\n",
            "48000 :  0.6940000000000005\n",
            "49000 :  0.6750000000000005\n",
            "50000 :  0.6980000000000005\n"
          ]
        }
      ]
    },
    {
      "cell_type": "code",
      "source": [],
      "metadata": {
        "id": "bFvFzzB9jGKW"
      },
      "id": "bFvFzzB9jGKW",
      "execution_count": null,
      "outputs": []
    }
  ],
  "metadata": {
    "kernelspec": {
      "display_name": "Python 3 (ipykernel)",
      "language": "python",
      "name": "python3"
    },
    "language_info": {
      "codemirror_mode": {
        "name": "ipython",
        "version": 3
      },
      "file_extension": ".py",
      "mimetype": "text/x-python",
      "name": "python",
      "nbconvert_exporter": "python",
      "pygments_lexer": "ipython3",
      "version": "3.8.11"
    },
    "colab": {
      "provenance": []
    },
    "gpuClass": "standard",
    "widgets": {
      "application/vnd.jupyter.widget-state+json": {
        "c70d3ed92625490b9c3f27ed49c3daf2": {
          "model_module": "@jupyter-widgets/controls",
          "model_name": "VBoxModel",
          "model_module_version": "1.5.0",
          "state": {
            "_dom_classes": [
              "widget-interact"
            ],
            "_model_module": "@jupyter-widgets/controls",
            "_model_module_version": "1.5.0",
            "_model_name": "VBoxModel",
            "_view_count": null,
            "_view_module": "@jupyter-widgets/controls",
            "_view_module_version": "1.5.0",
            "_view_name": "VBoxView",
            "box_style": "",
            "children": [
              "IPY_MODEL_0bf13fac761341f1a1e6c36c10aa60f2",
              "IPY_MODEL_df5d8696d99b495fb453ceef2f38e9ab",
              "IPY_MODEL_fc40634652b14597a35462c44dfcf769",
              "IPY_MODEL_5ba728309bdc4feb9e9e84d6cee91965",
              "IPY_MODEL_58b96f221e8644298757e944ad5461ae"
            ],
            "layout": "IPY_MODEL_eae3fbfba99e411b887a891c59a92341"
          }
        },
        "0bf13fac761341f1a1e6c36c10aa60f2": {
          "model_module": "@jupyter-widgets/controls",
          "model_name": "IntSliderModel",
          "model_module_version": "1.5.0",
          "state": {
            "_dom_classes": [],
            "_model_module": "@jupyter-widgets/controls",
            "_model_module_version": "1.5.0",
            "_model_name": "IntSliderModel",
            "_view_count": null,
            "_view_module": "@jupyter-widgets/controls",
            "_view_module_version": "1.5.0",
            "_view_name": "IntSliderView",
            "continuous_update": true,
            "description": "num_episodes",
            "description_tooltip": null,
            "disabled": false,
            "layout": "IPY_MODEL_b5daa8c81ff944a39d41e93c5aac2d5d",
            "max": 10000,
            "min": 1000,
            "orientation": "horizontal",
            "readout": true,
            "readout_format": "d",
            "step": 1000,
            "style": "IPY_MODEL_41e1c120a72b456b803ca2b0c145a6d9",
            "value": 10000
          }
        },
        "df5d8696d99b495fb453ceef2f38e9ab": {
          "model_module": "@jupyter-widgets/controls",
          "model_name": "FloatSliderModel",
          "model_module_version": "1.5.0",
          "state": {
            "_dom_classes": [],
            "_model_module": "@jupyter-widgets/controls",
            "_model_module_version": "1.5.0",
            "_model_name": "FloatSliderModel",
            "_view_count": null,
            "_view_module": "@jupyter-widgets/controls",
            "_view_module_version": "1.5.0",
            "_view_name": "FloatSliderView",
            "continuous_update": true,
            "description": "learning_rate",
            "description_tooltip": null,
            "disabled": false,
            "layout": "IPY_MODEL_83ccdd00a9ac440e9cb68bb921e0e81f",
            "max": 1,
            "min": 0,
            "orientation": "horizontal",
            "readout": true,
            "readout_format": ".2f",
            "step": 0.01,
            "style": "IPY_MODEL_2167767b63194507bb76e66df5f3d83f",
            "value": 0.3
          }
        },
        "fc40634652b14597a35462c44dfcf769": {
          "model_module": "@jupyter-widgets/controls",
          "model_name": "FloatSliderModel",
          "model_module_version": "1.5.0",
          "state": {
            "_dom_classes": [],
            "_model_module": "@jupyter-widgets/controls",
            "_model_module_version": "1.5.0",
            "_model_name": "FloatSliderModel",
            "_view_count": null,
            "_view_module": "@jupyter-widgets/controls",
            "_view_module_version": "1.5.0",
            "_view_name": "FloatSliderView",
            "continuous_update": true,
            "description": "discount_rate",
            "description_tooltip": null,
            "disabled": false,
            "layout": "IPY_MODEL_fa898de3c08144389ffbfc2cbf4beffb",
            "max": 1,
            "min": 0,
            "orientation": "horizontal",
            "readout": true,
            "readout_format": ".2f",
            "step": 0.01,
            "style": "IPY_MODEL_6764214b2f3f4af9b12cf41696a785ea",
            "value": 0.99
          }
        },
        "5ba728309bdc4feb9e9e84d6cee91965": {
          "model_module": "@jupyter-widgets/controls",
          "model_name": "FloatSliderModel",
          "model_module_version": "1.5.0",
          "state": {
            "_dom_classes": [],
            "_model_module": "@jupyter-widgets/controls",
            "_model_module_version": "1.5.0",
            "_model_name": "FloatSliderModel",
            "_view_count": null,
            "_view_module": "@jupyter-widgets/controls",
            "_view_module_version": "1.5.0",
            "_view_name": "FloatSliderView",
            "continuous_update": true,
            "description": "exploration_rate",
            "description_tooltip": null,
            "disabled": false,
            "layout": "IPY_MODEL_29146fb4b9ad4aae852539c7e45d0c0a",
            "max": 1,
            "min": 0,
            "orientation": "horizontal",
            "readout": true,
            "readout_format": ".2f",
            "step": 0.01,
            "style": "IPY_MODEL_4755a5825b074ec9b842263022b39d22",
            "value": 1
          }
        },
        "58b96f221e8644298757e944ad5461ae": {
          "model_module": "@jupyter-widgets/output",
          "model_name": "OutputModel",
          "model_module_version": "1.0.0",
          "state": {
            "_dom_classes": [],
            "_model_module": "@jupyter-widgets/output",
            "_model_module_version": "1.0.0",
            "_model_name": "OutputModel",
            "_view_count": null,
            "_view_module": "@jupyter-widgets/output",
            "_view_module_version": "1.0.0",
            "_view_name": "OutputView",
            "layout": "IPY_MODEL_601fbcac7299455499a0bfe52d46b2b5",
            "msg_id": "",
            "outputs": [
              {
                "output_type": "stream",
                "name": "stdout",
                "text": [
                  "********Average reward per thousand episodes********\n",
                  "\n",
                  "1000 :  0.04100000000000003\n",
                  "2000 :  0.17800000000000013\n",
                  "3000 :  0.33700000000000024\n",
                  "4000 :  0.5210000000000004\n",
                  "5000 :  0.6110000000000004\n",
                  "6000 :  0.6170000000000004\n",
                  "7000 :  0.6560000000000005\n",
                  "8000 :  0.6130000000000004\n",
                  "9000 :  0.6210000000000004\n",
                  "10000 :  0.6310000000000004\n"
                ]
              }
            ]
          }
        },
        "eae3fbfba99e411b887a891c59a92341": {
          "model_module": "@jupyter-widgets/base",
          "model_name": "LayoutModel",
          "model_module_version": "1.2.0",
          "state": {
            "_model_module": "@jupyter-widgets/base",
            "_model_module_version": "1.2.0",
            "_model_name": "LayoutModel",
            "_view_count": null,
            "_view_module": "@jupyter-widgets/base",
            "_view_module_version": "1.2.0",
            "_view_name": "LayoutView",
            "align_content": null,
            "align_items": null,
            "align_self": null,
            "border": null,
            "bottom": null,
            "display": null,
            "flex": null,
            "flex_flow": null,
            "grid_area": null,
            "grid_auto_columns": null,
            "grid_auto_flow": null,
            "grid_auto_rows": null,
            "grid_column": null,
            "grid_gap": null,
            "grid_row": null,
            "grid_template_areas": null,
            "grid_template_columns": null,
            "grid_template_rows": null,
            "height": null,
            "justify_content": null,
            "justify_items": null,
            "left": null,
            "margin": null,
            "max_height": null,
            "max_width": null,
            "min_height": null,
            "min_width": null,
            "object_fit": null,
            "object_position": null,
            "order": null,
            "overflow": null,
            "overflow_x": null,
            "overflow_y": null,
            "padding": null,
            "right": null,
            "top": null,
            "visibility": null,
            "width": null
          }
        },
        "b5daa8c81ff944a39d41e93c5aac2d5d": {
          "model_module": "@jupyter-widgets/base",
          "model_name": "LayoutModel",
          "model_module_version": "1.2.0",
          "state": {
            "_model_module": "@jupyter-widgets/base",
            "_model_module_version": "1.2.0",
            "_model_name": "LayoutModel",
            "_view_count": null,
            "_view_module": "@jupyter-widgets/base",
            "_view_module_version": "1.2.0",
            "_view_name": "LayoutView",
            "align_content": null,
            "align_items": null,
            "align_self": null,
            "border": null,
            "bottom": null,
            "display": null,
            "flex": null,
            "flex_flow": null,
            "grid_area": null,
            "grid_auto_columns": null,
            "grid_auto_flow": null,
            "grid_auto_rows": null,
            "grid_column": null,
            "grid_gap": null,
            "grid_row": null,
            "grid_template_areas": null,
            "grid_template_columns": null,
            "grid_template_rows": null,
            "height": null,
            "justify_content": null,
            "justify_items": null,
            "left": null,
            "margin": null,
            "max_height": null,
            "max_width": null,
            "min_height": null,
            "min_width": null,
            "object_fit": null,
            "object_position": null,
            "order": null,
            "overflow": null,
            "overflow_x": null,
            "overflow_y": null,
            "padding": null,
            "right": null,
            "top": null,
            "visibility": null,
            "width": null
          }
        },
        "41e1c120a72b456b803ca2b0c145a6d9": {
          "model_module": "@jupyter-widgets/controls",
          "model_name": "SliderStyleModel",
          "model_module_version": "1.5.0",
          "state": {
            "_model_module": "@jupyter-widgets/controls",
            "_model_module_version": "1.5.0",
            "_model_name": "SliderStyleModel",
            "_view_count": null,
            "_view_module": "@jupyter-widgets/base",
            "_view_module_version": "1.2.0",
            "_view_name": "StyleView",
            "description_width": "",
            "handle_color": null
          }
        },
        "83ccdd00a9ac440e9cb68bb921e0e81f": {
          "model_module": "@jupyter-widgets/base",
          "model_name": "LayoutModel",
          "model_module_version": "1.2.0",
          "state": {
            "_model_module": "@jupyter-widgets/base",
            "_model_module_version": "1.2.0",
            "_model_name": "LayoutModel",
            "_view_count": null,
            "_view_module": "@jupyter-widgets/base",
            "_view_module_version": "1.2.0",
            "_view_name": "LayoutView",
            "align_content": null,
            "align_items": null,
            "align_self": null,
            "border": null,
            "bottom": null,
            "display": null,
            "flex": null,
            "flex_flow": null,
            "grid_area": null,
            "grid_auto_columns": null,
            "grid_auto_flow": null,
            "grid_auto_rows": null,
            "grid_column": null,
            "grid_gap": null,
            "grid_row": null,
            "grid_template_areas": null,
            "grid_template_columns": null,
            "grid_template_rows": null,
            "height": null,
            "justify_content": null,
            "justify_items": null,
            "left": null,
            "margin": null,
            "max_height": null,
            "max_width": null,
            "min_height": null,
            "min_width": null,
            "object_fit": null,
            "object_position": null,
            "order": null,
            "overflow": null,
            "overflow_x": null,
            "overflow_y": null,
            "padding": null,
            "right": null,
            "top": null,
            "visibility": null,
            "width": null
          }
        },
        "2167767b63194507bb76e66df5f3d83f": {
          "model_module": "@jupyter-widgets/controls",
          "model_name": "SliderStyleModel",
          "model_module_version": "1.5.0",
          "state": {
            "_model_module": "@jupyter-widgets/controls",
            "_model_module_version": "1.5.0",
            "_model_name": "SliderStyleModel",
            "_view_count": null,
            "_view_module": "@jupyter-widgets/base",
            "_view_module_version": "1.2.0",
            "_view_name": "StyleView",
            "description_width": "",
            "handle_color": null
          }
        },
        "fa898de3c08144389ffbfc2cbf4beffb": {
          "model_module": "@jupyter-widgets/base",
          "model_name": "LayoutModel",
          "model_module_version": "1.2.0",
          "state": {
            "_model_module": "@jupyter-widgets/base",
            "_model_module_version": "1.2.0",
            "_model_name": "LayoutModel",
            "_view_count": null,
            "_view_module": "@jupyter-widgets/base",
            "_view_module_version": "1.2.0",
            "_view_name": "LayoutView",
            "align_content": null,
            "align_items": null,
            "align_self": null,
            "border": null,
            "bottom": null,
            "display": null,
            "flex": null,
            "flex_flow": null,
            "grid_area": null,
            "grid_auto_columns": null,
            "grid_auto_flow": null,
            "grid_auto_rows": null,
            "grid_column": null,
            "grid_gap": null,
            "grid_row": null,
            "grid_template_areas": null,
            "grid_template_columns": null,
            "grid_template_rows": null,
            "height": null,
            "justify_content": null,
            "justify_items": null,
            "left": null,
            "margin": null,
            "max_height": null,
            "max_width": null,
            "min_height": null,
            "min_width": null,
            "object_fit": null,
            "object_position": null,
            "order": null,
            "overflow": null,
            "overflow_x": null,
            "overflow_y": null,
            "padding": null,
            "right": null,
            "top": null,
            "visibility": null,
            "width": null
          }
        },
        "6764214b2f3f4af9b12cf41696a785ea": {
          "model_module": "@jupyter-widgets/controls",
          "model_name": "SliderStyleModel",
          "model_module_version": "1.5.0",
          "state": {
            "_model_module": "@jupyter-widgets/controls",
            "_model_module_version": "1.5.0",
            "_model_name": "SliderStyleModel",
            "_view_count": null,
            "_view_module": "@jupyter-widgets/base",
            "_view_module_version": "1.2.0",
            "_view_name": "StyleView",
            "description_width": "",
            "handle_color": null
          }
        },
        "29146fb4b9ad4aae852539c7e45d0c0a": {
          "model_module": "@jupyter-widgets/base",
          "model_name": "LayoutModel",
          "model_module_version": "1.2.0",
          "state": {
            "_model_module": "@jupyter-widgets/base",
            "_model_module_version": "1.2.0",
            "_model_name": "LayoutModel",
            "_view_count": null,
            "_view_module": "@jupyter-widgets/base",
            "_view_module_version": "1.2.0",
            "_view_name": "LayoutView",
            "align_content": null,
            "align_items": null,
            "align_self": null,
            "border": null,
            "bottom": null,
            "display": null,
            "flex": null,
            "flex_flow": null,
            "grid_area": null,
            "grid_auto_columns": null,
            "grid_auto_flow": null,
            "grid_auto_rows": null,
            "grid_column": null,
            "grid_gap": null,
            "grid_row": null,
            "grid_template_areas": null,
            "grid_template_columns": null,
            "grid_template_rows": null,
            "height": null,
            "justify_content": null,
            "justify_items": null,
            "left": null,
            "margin": null,
            "max_height": null,
            "max_width": null,
            "min_height": null,
            "min_width": null,
            "object_fit": null,
            "object_position": null,
            "order": null,
            "overflow": null,
            "overflow_x": null,
            "overflow_y": null,
            "padding": null,
            "right": null,
            "top": null,
            "visibility": null,
            "width": null
          }
        },
        "4755a5825b074ec9b842263022b39d22": {
          "model_module": "@jupyter-widgets/controls",
          "model_name": "SliderStyleModel",
          "model_module_version": "1.5.0",
          "state": {
            "_model_module": "@jupyter-widgets/controls",
            "_model_module_version": "1.5.0",
            "_model_name": "SliderStyleModel",
            "_view_count": null,
            "_view_module": "@jupyter-widgets/base",
            "_view_module_version": "1.2.0",
            "_view_name": "StyleView",
            "description_width": "",
            "handle_color": null
          }
        },
        "601fbcac7299455499a0bfe52d46b2b5": {
          "model_module": "@jupyter-widgets/base",
          "model_name": "LayoutModel",
          "model_module_version": "1.2.0",
          "state": {
            "_model_module": "@jupyter-widgets/base",
            "_model_module_version": "1.2.0",
            "_model_name": "LayoutModel",
            "_view_count": null,
            "_view_module": "@jupyter-widgets/base",
            "_view_module_version": "1.2.0",
            "_view_name": "LayoutView",
            "align_content": null,
            "align_items": null,
            "align_self": null,
            "border": null,
            "bottom": null,
            "display": null,
            "flex": null,
            "flex_flow": null,
            "grid_area": null,
            "grid_auto_columns": null,
            "grid_auto_flow": null,
            "grid_auto_rows": null,
            "grid_column": null,
            "grid_gap": null,
            "grid_row": null,
            "grid_template_areas": null,
            "grid_template_columns": null,
            "grid_template_rows": null,
            "height": null,
            "justify_content": null,
            "justify_items": null,
            "left": null,
            "margin": null,
            "max_height": null,
            "max_width": null,
            "min_height": null,
            "min_width": null,
            "object_fit": null,
            "object_position": null,
            "order": null,
            "overflow": null,
            "overflow_x": null,
            "overflow_y": null,
            "padding": null,
            "right": null,
            "top": null,
            "visibility": null,
            "width": null
          }
        }
      }
    }
  },
  "nbformat": 4,
  "nbformat_minor": 5
}